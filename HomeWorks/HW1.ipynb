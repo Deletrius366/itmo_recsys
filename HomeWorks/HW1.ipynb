{
 "cells": [
  {
   "cell_type": "markdown",
   "metadata": {},
   "source": [
    "### Матричные факторизации"
   ]
  },
  {
   "cell_type": "markdown",
   "metadata": {},
   "source": [
    "В данной работе вам предстоит познакомиться с практической стороной матричных разложений.\n",
    "Работа поделена на 4 задания:\n",
    "1. Вам необходимо реализовать SVD разложения используя SGD на explicit данных\n",
    "2. Вам необходимо реализовать матричное разложения используя ALS на implicit данных\n",
    "3. Вам необходимо реализовать матричное разложения используя BPR(pair-wise loss) на implicit данных\n",
    "4. Вам необходимо реализовать матричное разложения используя WARP(list-wise loss) на implicit данных\n"
   ]
  },
  {
   "cell_type": "code",
   "execution_count": 11,
   "metadata": {},
   "outputs": [],
   "source": [
    "import implicit\n",
    "import pandas as pd\n",
    "import numpy as np\n",
    "import scipy.sparse as sp\n",
    "\n",
    "from lightfm.datasets import fetch_movielens"
   ]
  },
  {
   "cell_type": "markdown",
   "metadata": {},
   "source": [
    "В данной работе мы будем работать с explicit датасетом movieLens, в котором представленны пары user_id movie_id и rating выставленный пользователем фильму\n",
    "\n",
    "Скачать датасет можно по ссылке https://grouplens.org/datasets/movielens/1m/"
   ]
  },
  {
   "cell_type": "code",
   "execution_count": 12,
   "metadata": {},
   "outputs": [],
   "source": [
    "ratings = pd.read_csv('ratings.dat', delimiter='::', header=None, \n",
    "        names=['user_id', 'movie_id', 'rating', 'timestamp'], \n",
    "        usecols=['user_id', 'movie_id', 'rating'], engine='python')"
   ]
  },
  {
   "cell_type": "code",
   "execution_count": 13,
   "metadata": {},
   "outputs": [],
   "source": [
    "movie_info = pd.read_csv('movies.dat', delimiter='::', header=None, \n",
    "        names=['movie_id', 'name', 'category'], engine='python')"
   ]
  },
  {
   "cell_type": "markdown",
   "metadata": {},
   "source": [
    "Explicit данные"
   ]
  },
  {
   "cell_type": "code",
   "execution_count": 14,
   "metadata": {},
   "outputs": [
    {
     "data": {
      "text/html": [
       "<div>\n",
       "<style scoped>\n",
       "    .dataframe tbody tr th:only-of-type {\n",
       "        vertical-align: middle;\n",
       "    }\n",
       "\n",
       "    .dataframe tbody tr th {\n",
       "        vertical-align: top;\n",
       "    }\n",
       "\n",
       "    .dataframe thead th {\n",
       "        text-align: right;\n",
       "    }\n",
       "</style>\n",
       "<table border=\"1\" class=\"dataframe\">\n",
       "  <thead>\n",
       "    <tr style=\"text-align: right;\">\n",
       "      <th></th>\n",
       "      <th>user_id</th>\n",
       "      <th>movie_id</th>\n",
       "      <th>rating</th>\n",
       "    </tr>\n",
       "  </thead>\n",
       "  <tbody>\n",
       "    <tr>\n",
       "      <th>0</th>\n",
       "      <td>1</td>\n",
       "      <td>1193</td>\n",
       "      <td>5</td>\n",
       "    </tr>\n",
       "    <tr>\n",
       "      <th>1</th>\n",
       "      <td>1</td>\n",
       "      <td>661</td>\n",
       "      <td>3</td>\n",
       "    </tr>\n",
       "    <tr>\n",
       "      <th>2</th>\n",
       "      <td>1</td>\n",
       "      <td>914</td>\n",
       "      <td>3</td>\n",
       "    </tr>\n",
       "    <tr>\n",
       "      <th>3</th>\n",
       "      <td>1</td>\n",
       "      <td>3408</td>\n",
       "      <td>4</td>\n",
       "    </tr>\n",
       "    <tr>\n",
       "      <th>4</th>\n",
       "      <td>1</td>\n",
       "      <td>2355</td>\n",
       "      <td>5</td>\n",
       "    </tr>\n",
       "    <tr>\n",
       "      <th>5</th>\n",
       "      <td>1</td>\n",
       "      <td>1197</td>\n",
       "      <td>3</td>\n",
       "    </tr>\n",
       "    <tr>\n",
       "      <th>6</th>\n",
       "      <td>1</td>\n",
       "      <td>1287</td>\n",
       "      <td>5</td>\n",
       "    </tr>\n",
       "    <tr>\n",
       "      <th>7</th>\n",
       "      <td>1</td>\n",
       "      <td>2804</td>\n",
       "      <td>5</td>\n",
       "    </tr>\n",
       "    <tr>\n",
       "      <th>8</th>\n",
       "      <td>1</td>\n",
       "      <td>594</td>\n",
       "      <td>4</td>\n",
       "    </tr>\n",
       "    <tr>\n",
       "      <th>9</th>\n",
       "      <td>1</td>\n",
       "      <td>919</td>\n",
       "      <td>4</td>\n",
       "    </tr>\n",
       "  </tbody>\n",
       "</table>\n",
       "</div>"
      ],
      "text/plain": [
       "   user_id  movie_id  rating\n",
       "0        1      1193       5\n",
       "1        1       661       3\n",
       "2        1       914       3\n",
       "3        1      3408       4\n",
       "4        1      2355       5\n",
       "5        1      1197       3\n",
       "6        1      1287       5\n",
       "7        1      2804       5\n",
       "8        1       594       4\n",
       "9        1       919       4"
      ]
     },
     "execution_count": 14,
     "metadata": {},
     "output_type": "execute_result"
    }
   ],
   "source": [
    "ratings.head(10)"
   ]
  },
  {
   "cell_type": "markdown",
   "metadata": {},
   "source": [
    "Для того, чтобы преобразовать текущий датасет в Implicit, давайте считать что позитивная оценка это оценка >=4"
   ]
  },
  {
   "cell_type": "code",
   "execution_count": 68,
   "metadata": {},
   "outputs": [],
   "source": [
    "implicit_ratings = ratings.loc[(ratings['rating'] >= 4)]"
   ]
  },
  {
   "cell_type": "code",
   "execution_count": 16,
   "metadata": {},
   "outputs": [
    {
     "data": {
      "text/html": [
       "<div>\n",
       "<style scoped>\n",
       "    .dataframe tbody tr th:only-of-type {\n",
       "        vertical-align: middle;\n",
       "    }\n",
       "\n",
       "    .dataframe tbody tr th {\n",
       "        vertical-align: top;\n",
       "    }\n",
       "\n",
       "    .dataframe thead th {\n",
       "        text-align: right;\n",
       "    }\n",
       "</style>\n",
       "<table border=\"1\" class=\"dataframe\">\n",
       "  <thead>\n",
       "    <tr style=\"text-align: right;\">\n",
       "      <th></th>\n",
       "      <th>user_id</th>\n",
       "      <th>movie_id</th>\n",
       "      <th>rating</th>\n",
       "    </tr>\n",
       "  </thead>\n",
       "  <tbody>\n",
       "    <tr>\n",
       "      <th>0</th>\n",
       "      <td>1</td>\n",
       "      <td>1193</td>\n",
       "      <td>5</td>\n",
       "    </tr>\n",
       "    <tr>\n",
       "      <th>3</th>\n",
       "      <td>1</td>\n",
       "      <td>3408</td>\n",
       "      <td>4</td>\n",
       "    </tr>\n",
       "    <tr>\n",
       "      <th>4</th>\n",
       "      <td>1</td>\n",
       "      <td>2355</td>\n",
       "      <td>5</td>\n",
       "    </tr>\n",
       "    <tr>\n",
       "      <th>6</th>\n",
       "      <td>1</td>\n",
       "      <td>1287</td>\n",
       "      <td>5</td>\n",
       "    </tr>\n",
       "    <tr>\n",
       "      <th>7</th>\n",
       "      <td>1</td>\n",
       "      <td>2804</td>\n",
       "      <td>5</td>\n",
       "    </tr>\n",
       "    <tr>\n",
       "      <th>8</th>\n",
       "      <td>1</td>\n",
       "      <td>594</td>\n",
       "      <td>4</td>\n",
       "    </tr>\n",
       "    <tr>\n",
       "      <th>9</th>\n",
       "      <td>1</td>\n",
       "      <td>919</td>\n",
       "      <td>4</td>\n",
       "    </tr>\n",
       "    <tr>\n",
       "      <th>10</th>\n",
       "      <td>1</td>\n",
       "      <td>595</td>\n",
       "      <td>5</td>\n",
       "    </tr>\n",
       "    <tr>\n",
       "      <th>11</th>\n",
       "      <td>1</td>\n",
       "      <td>938</td>\n",
       "      <td>4</td>\n",
       "    </tr>\n",
       "    <tr>\n",
       "      <th>12</th>\n",
       "      <td>1</td>\n",
       "      <td>2398</td>\n",
       "      <td>4</td>\n",
       "    </tr>\n",
       "  </tbody>\n",
       "</table>\n",
       "</div>"
      ],
      "text/plain": [
       "    user_id  movie_id  rating\n",
       "0         1      1193       5\n",
       "3         1      3408       4\n",
       "4         1      2355       5\n",
       "6         1      1287       5\n",
       "7         1      2804       5\n",
       "8         1       594       4\n",
       "9         1       919       4\n",
       "10        1       595       5\n",
       "11        1       938       4\n",
       "12        1      2398       4"
      ]
     },
     "execution_count": 16,
     "metadata": {},
     "output_type": "execute_result"
    }
   ],
   "source": [
    "implicit_ratings.head(10)"
   ]
  },
  {
   "cell_type": "markdown",
   "metadata": {},
   "source": [
    "Удобнее работать с sparse матричками, давайте преобразуем DataFrame в CSR матрицы"
   ]
  },
  {
   "cell_type": "code",
   "execution_count": 17,
   "metadata": {},
   "outputs": [],
   "source": [
    "users = implicit_ratings[\"user_id\"]\n",
    "movies = implicit_ratings[\"movie_id\"]\n",
    "user_item = sp.coo_matrix((np.ones_like(users), (users, movies)))\n",
    "user_item_t_csr = user_item.T.tocsr()\n",
    "user_item_csr = user_item.tocsr()"
   ]
  },
  {
   "cell_type": "markdown",
   "metadata": {},
   "source": [
    "В качестве примера воспользуемся ALS разложением из библиотеки implicit\n",
    "\n",
    "Зададим размерность латентного пространства равным 64, это же определяет размер user/item эмбедингов"
   ]
  },
  {
   "cell_type": "code",
   "execution_count": 18,
   "metadata": {},
   "outputs": [
    {
     "name": "stderr",
     "output_type": "stream",
     "text": [
      "WARNING:root:OpenBLAS detected. Its highly recommend to set the environment variable 'export OPENBLAS_NUM_THREADS=1' to disable its internal multithreading\n"
     ]
    }
   ],
   "source": [
    "model = implicit.als.AlternatingLeastSquares(factors=64, iterations=100, calculate_training_loss=True)"
   ]
  },
  {
   "cell_type": "markdown",
   "metadata": {},
   "source": [
    "В качестве loss здесь всеми любимый RMSE"
   ]
  },
  {
   "cell_type": "code",
   "execution_count": 19,
   "metadata": {},
   "outputs": [
    {
     "ename": "ImportError",
     "evalue": "IProgress not found. Please update jupyter and ipywidgets. See https://ipywidgets.readthedocs.io/en/stable/user_install.html",
     "output_type": "error",
     "traceback": [
      "\u001b[1;31m---------------------------------------------------------------------------\u001b[0m",
      "\u001b[1;31mImportError\u001b[0m                               Traceback (most recent call last)",
      "\u001b[1;32m<ipython-input-19-deb1e8a0d103>\u001b[0m in \u001b[0;36m<module>\u001b[1;34m\u001b[0m\n\u001b[1;32m----> 1\u001b[1;33m \u001b[0mmodel\u001b[0m\u001b[1;33m.\u001b[0m\u001b[0mfit\u001b[0m\u001b[1;33m(\u001b[0m\u001b[0muser_item_t_csr\u001b[0m\u001b[1;33m)\u001b[0m\u001b[1;33m\u001b[0m\u001b[1;33m\u001b[0m\u001b[0m\n\u001b[0m",
      "\u001b[1;32m~\\AppData\\Local\\Packages\\PythonSoftwareFoundation.Python.3.8_qbz5n2kfra8p0\\LocalCache\\local-packages\\Python38\\site-packages\\implicit\\als.py\u001b[0m in \u001b[0;36mfit\u001b[1;34m(self, item_users, show_progress)\u001b[0m\n\u001b[0;32m    166\u001b[0m \u001b[1;33m\u001b[0m\u001b[0m\n\u001b[0;32m    167\u001b[0m         \u001b[0mlog\u001b[0m\u001b[1;33m.\u001b[0m\u001b[0mdebug\u001b[0m\u001b[1;33m(\u001b[0m\u001b[1;34m\"Running %i ALS iterations\"\u001b[0m\u001b[1;33m,\u001b[0m \u001b[0mself\u001b[0m\u001b[1;33m.\u001b[0m\u001b[0miterations\u001b[0m\u001b[1;33m)\u001b[0m\u001b[1;33m\u001b[0m\u001b[1;33m\u001b[0m\u001b[0m\n\u001b[1;32m--> 168\u001b[1;33m         \u001b[1;32mwith\u001b[0m \u001b[0mtqdm\u001b[0m\u001b[1;33m(\u001b[0m\u001b[0mtotal\u001b[0m\u001b[1;33m=\u001b[0m\u001b[0mself\u001b[0m\u001b[1;33m.\u001b[0m\u001b[0miterations\u001b[0m\u001b[1;33m,\u001b[0m \u001b[0mdisable\u001b[0m\u001b[1;33m=\u001b[0m\u001b[1;32mnot\u001b[0m \u001b[0mshow_progress\u001b[0m\u001b[1;33m)\u001b[0m \u001b[1;32mas\u001b[0m \u001b[0mprogress\u001b[0m\u001b[1;33m:\u001b[0m\u001b[1;33m\u001b[0m\u001b[1;33m\u001b[0m\u001b[0m\n\u001b[0m\u001b[0;32m    169\u001b[0m             \u001b[1;31m# alternate between learning the user_factors from the item_factors and vice-versa\u001b[0m\u001b[1;33m\u001b[0m\u001b[1;33m\u001b[0m\u001b[1;33m\u001b[0m\u001b[0m\n\u001b[0;32m    170\u001b[0m             \u001b[1;32mfor\u001b[0m \u001b[0miteration\u001b[0m \u001b[1;32min\u001b[0m \u001b[0mrange\u001b[0m\u001b[1;33m(\u001b[0m\u001b[0mself\u001b[0m\u001b[1;33m.\u001b[0m\u001b[0miterations\u001b[0m\u001b[1;33m)\u001b[0m\u001b[1;33m:\u001b[0m\u001b[1;33m\u001b[0m\u001b[1;33m\u001b[0m\u001b[0m\n",
      "\u001b[1;32m~\\AppData\\Local\\Packages\\PythonSoftwareFoundation.Python.3.8_qbz5n2kfra8p0\\LocalCache\\local-packages\\Python38\\site-packages\\tqdm\\notebook.py\u001b[0m in \u001b[0;36m__init__\u001b[1;34m(self, *args, **kwargs)\u001b[0m\n\u001b[0;32m    233\u001b[0m         \u001b[0munit_scale\u001b[0m \u001b[1;33m=\u001b[0m \u001b[1;36m1\u001b[0m \u001b[1;32mif\u001b[0m \u001b[0mself\u001b[0m\u001b[1;33m.\u001b[0m\u001b[0munit_scale\u001b[0m \u001b[1;32mis\u001b[0m \u001b[1;32mTrue\u001b[0m \u001b[1;32melse\u001b[0m \u001b[0mself\u001b[0m\u001b[1;33m.\u001b[0m\u001b[0munit_scale\u001b[0m \u001b[1;32mor\u001b[0m \u001b[1;36m1\u001b[0m\u001b[1;33m\u001b[0m\u001b[1;33m\u001b[0m\u001b[0m\n\u001b[0;32m    234\u001b[0m         \u001b[0mtotal\u001b[0m \u001b[1;33m=\u001b[0m \u001b[0mself\u001b[0m\u001b[1;33m.\u001b[0m\u001b[0mtotal\u001b[0m \u001b[1;33m*\u001b[0m \u001b[0munit_scale\u001b[0m \u001b[1;32mif\u001b[0m \u001b[0mself\u001b[0m\u001b[1;33m.\u001b[0m\u001b[0mtotal\u001b[0m \u001b[1;32melse\u001b[0m \u001b[0mself\u001b[0m\u001b[1;33m.\u001b[0m\u001b[0mtotal\u001b[0m\u001b[1;33m\u001b[0m\u001b[1;33m\u001b[0m\u001b[0m\n\u001b[1;32m--> 235\u001b[1;33m         \u001b[0mself\u001b[0m\u001b[1;33m.\u001b[0m\u001b[0mcontainer\u001b[0m \u001b[1;33m=\u001b[0m \u001b[0mself\u001b[0m\u001b[1;33m.\u001b[0m\u001b[0mstatus_printer\u001b[0m\u001b[1;33m(\u001b[0m\u001b[0mself\u001b[0m\u001b[1;33m.\u001b[0m\u001b[0mfp\u001b[0m\u001b[1;33m,\u001b[0m \u001b[0mtotal\u001b[0m\u001b[1;33m,\u001b[0m \u001b[0mself\u001b[0m\u001b[1;33m.\u001b[0m\u001b[0mdesc\u001b[0m\u001b[1;33m,\u001b[0m \u001b[0mself\u001b[0m\u001b[1;33m.\u001b[0m\u001b[0mncols\u001b[0m\u001b[1;33m)\u001b[0m\u001b[1;33m\u001b[0m\u001b[1;33m\u001b[0m\u001b[0m\n\u001b[0m\u001b[0;32m    236\u001b[0m         \u001b[0mself\u001b[0m\u001b[1;33m.\u001b[0m\u001b[0mcontainer\u001b[0m\u001b[1;33m.\u001b[0m\u001b[0mpbar\u001b[0m \u001b[1;33m=\u001b[0m \u001b[0mself\u001b[0m\u001b[1;33m\u001b[0m\u001b[1;33m\u001b[0m\u001b[0m\n\u001b[0;32m    237\u001b[0m         \u001b[1;32mif\u001b[0m \u001b[0mdisplay_here\u001b[0m\u001b[1;33m:\u001b[0m\u001b[1;33m\u001b[0m\u001b[1;33m\u001b[0m\u001b[0m\n",
      "\u001b[1;32m~\\AppData\\Local\\Packages\\PythonSoftwareFoundation.Python.3.8_qbz5n2kfra8p0\\LocalCache\\local-packages\\Python38\\site-packages\\tqdm\\notebook.py\u001b[0m in \u001b[0;36mstatus_printer\u001b[1;34m(_, total, desc, ncols)\u001b[0m\n\u001b[0;32m    110\u001b[0m         \u001b[1;31m# Prepare IPython progress bar\u001b[0m\u001b[1;33m\u001b[0m\u001b[1;33m\u001b[0m\u001b[1;33m\u001b[0m\u001b[0m\n\u001b[0;32m    111\u001b[0m         \u001b[1;32mif\u001b[0m \u001b[0mIProgress\u001b[0m \u001b[1;32mis\u001b[0m \u001b[1;32mNone\u001b[0m\u001b[1;33m:\u001b[0m  \u001b[1;31m# #187 #451 #558 #872\u001b[0m\u001b[1;33m\u001b[0m\u001b[1;33m\u001b[0m\u001b[0m\n\u001b[1;32m--> 112\u001b[1;33m             raise ImportError(\n\u001b[0m\u001b[0;32m    113\u001b[0m                 \u001b[1;34m\"IProgress not found. Please update jupyter and ipywidgets.\"\u001b[0m\u001b[1;33m\u001b[0m\u001b[1;33m\u001b[0m\u001b[0m\n\u001b[0;32m    114\u001b[0m                 \u001b[1;34m\" See https://ipywidgets.readthedocs.io/en/stable\"\u001b[0m\u001b[1;33m\u001b[0m\u001b[1;33m\u001b[0m\u001b[0m\n",
      "\u001b[1;31mImportError\u001b[0m: IProgress not found. Please update jupyter and ipywidgets. See https://ipywidgets.readthedocs.io/en/stable/user_install.html"
     ]
    }
   ],
   "source": [
    "model.fit(user_item_t_csr)"
   ]
  },
  {
   "cell_type": "markdown",
   "metadata": {},
   "source": [
    "Построим похожие фильмы по 1 movie_id = Истории игрушек"
   ]
  },
  {
   "cell_type": "code",
   "execution_count": 20,
   "metadata": {},
   "outputs": [
    {
     "data": {
      "text/html": [
       "<div>\n",
       "<style scoped>\n",
       "    .dataframe tbody tr th:only-of-type {\n",
       "        vertical-align: middle;\n",
       "    }\n",
       "\n",
       "    .dataframe tbody tr th {\n",
       "        vertical-align: top;\n",
       "    }\n",
       "\n",
       "    .dataframe thead th {\n",
       "        text-align: right;\n",
       "    }\n",
       "</style>\n",
       "<table border=\"1\" class=\"dataframe\">\n",
       "  <thead>\n",
       "    <tr style=\"text-align: right;\">\n",
       "      <th></th>\n",
       "      <th>movie_id</th>\n",
       "      <th>name</th>\n",
       "      <th>category</th>\n",
       "    </tr>\n",
       "  </thead>\n",
       "  <tbody>\n",
       "    <tr>\n",
       "      <th>0</th>\n",
       "      <td>1</td>\n",
       "      <td>Toy Story (1995)</td>\n",
       "      <td>Animation|Children's|Comedy</td>\n",
       "    </tr>\n",
       "    <tr>\n",
       "      <th>1</th>\n",
       "      <td>2</td>\n",
       "      <td>Jumanji (1995)</td>\n",
       "      <td>Adventure|Children's|Fantasy</td>\n",
       "    </tr>\n",
       "    <tr>\n",
       "      <th>2</th>\n",
       "      <td>3</td>\n",
       "      <td>Grumpier Old Men (1995)</td>\n",
       "      <td>Comedy|Romance</td>\n",
       "    </tr>\n",
       "    <tr>\n",
       "      <th>3</th>\n",
       "      <td>4</td>\n",
       "      <td>Waiting to Exhale (1995)</td>\n",
       "      <td>Comedy|Drama</td>\n",
       "    </tr>\n",
       "    <tr>\n",
       "      <th>4</th>\n",
       "      <td>5</td>\n",
       "      <td>Father of the Bride Part II (1995)</td>\n",
       "      <td>Comedy</td>\n",
       "    </tr>\n",
       "  </tbody>\n",
       "</table>\n",
       "</div>"
      ],
      "text/plain": [
       "   movie_id                                name                      category\n",
       "0         1                    Toy Story (1995)   Animation|Children's|Comedy\n",
       "1         2                      Jumanji (1995)  Adventure|Children's|Fantasy\n",
       "2         3             Grumpier Old Men (1995)                Comedy|Romance\n",
       "3         4            Waiting to Exhale (1995)                  Comedy|Drama\n",
       "4         5  Father of the Bride Part II (1995)                        Comedy"
      ]
     },
     "execution_count": 20,
     "metadata": {},
     "output_type": "execute_result"
    }
   ],
   "source": [
    "movie_info.head(5)"
   ]
  },
  {
   "cell_type": "code",
   "execution_count": 21,
   "metadata": {},
   "outputs": [],
   "source": [
    "get_similars = lambda item_id, model : [movie_info[movie_info[\"movie_id\"] == x[0]][\"name\"].to_string() \n",
    "                                        for x in model.similar_items(item_id)]"
   ]
  },
  {
   "cell_type": "markdown",
   "metadata": {},
   "source": [
    "Как мы видим, симилары действительно оказались симиларами.\n",
    "\n",
    "Качество симиларов часто является хорошим способом проверить качество алгоритмов.\n",
    "\n",
    "P.S. Если хочется поглубже разобраться в том как разные алгоритмы формируют разные латентные пространства, рекомендую загружать полученные вектора в tensorBoard и смотреть на сформированное пространство"
   ]
  },
  {
   "cell_type": "code",
   "execution_count": 22,
   "metadata": {},
   "outputs": [
    {
     "data": {
      "text/plain": [
       "['0    Toy Story (1995)',\n",
       " '16    Sense and Sensibility (1995)',\n",
       " '486    Malice (1993)',\n",
       " '863    Killer: A Journal of Murder (1995)',\n",
       " '2051    Needful Things (1993)',\n",
       " '3411    Lucas (1986)',\n",
       " '1988    Incredible Journey, The (1963)',\n",
       " '487    Man Without a Face, The (1993)',\n",
       " '3405    Retroactive (1997)',\n",
       " '952    Angel and the Badman (1947)']"
      ]
     },
     "execution_count": 22,
     "metadata": {},
     "output_type": "execute_result"
    }
   ],
   "source": [
    "get_similars(1, model)"
   ]
  },
  {
   "cell_type": "markdown",
   "metadata": {},
   "source": [
    "Давайте теперь построим рекомендации для юзеров\n",
    "\n",
    "Как мы видим юзеру нравится фантастика, значит и в рекомендациях ожидаем увидеть фантастику"
   ]
  },
  {
   "cell_type": "code",
   "execution_count": 23,
   "metadata": {},
   "outputs": [],
   "source": [
    "get_user_history = lambda user_id, implicit_ratings : [movie_info[movie_info[\"movie_id\"] == x][\"name\"].to_string() \n",
    "                                            for x in implicit_ratings[implicit_ratings[\"user_id\"] == user_id][\"movie_id\"]]"
   ]
  },
  {
   "cell_type": "code",
   "execution_count": 24,
   "metadata": {},
   "outputs": [
    {
     "data": {
      "text/plain": [
       "['3399    Hustler, The (1961)',\n",
       " '2882    Fistful of Dollars, A (1964)',\n",
       " '1196    Alien (1979)',\n",
       " '1023    Die Hard (1988)',\n",
       " '257    Star Wars: Episode IV - A New Hope (1977)',\n",
       " '1959    Saving Private Ryan (1998)',\n",
       " '476    Jurassic Park (1993)',\n",
       " '1180    Raiders of the Lost Ark (1981)',\n",
       " '1885    Rocky (1976)',\n",
       " '1081    E.T. the Extra-Terrestrial (1982)',\n",
       " '3349    Thelma & Louise (1991)',\n",
       " '3633    Mad Max (1979)',\n",
       " '2297    King Kong (1933)',\n",
       " '1366    Jaws (1975)',\n",
       " '1183    Good, The Bad and The Ugly, The (1966)',\n",
       " '2623    Run Lola Run (Lola rennt) (1998)',\n",
       " '2878    Goldfinger (1964)',\n",
       " '1220    Terminator, The (1984)']"
      ]
     },
     "execution_count": 24,
     "metadata": {},
     "output_type": "execute_result"
    }
   ],
   "source": [
    "get_user_history(4, implicit_ratings)"
   ]
  },
  {
   "cell_type": "markdown",
   "metadata": {},
   "source": [
    "Получилось! \n",
    "\n",
    "Мы действительно порекомендовали пользователю фантастику и боевики, более того встречаются продолжения тех фильмов, которые он высоко оценил"
   ]
  },
  {
   "cell_type": "code",
   "execution_count": 25,
   "metadata": {},
   "outputs": [],
   "source": [
    "get_recommendations = lambda user_id, model : [movie_info[movie_info[\"movie_id\"] == x[0]][\"name\"].to_string() \n",
    "                                               for x in model.recommend(user_id, user_item_csr)]"
   ]
  },
  {
   "cell_type": "code",
   "execution_count": 26,
   "metadata": {},
   "outputs": [
    {
     "data": {
      "text/plain": [
       "['3458    Predator (1987)',\n",
       " '1079    Glengarry Glen Ross (1992)',\n",
       " '60    Eye for an Eye (1996)',\n",
       " '2054    All Dogs Go to Heaven (1989)',\n",
       " '2020    Rescuers Down Under, The (1990)',\n",
       " '515    Robocop 3 (1993)',\n",
       " '1672    Titanic (1997)',\n",
       " '1829    Land Girls, The (1998)',\n",
       " \"3268    I'll Never Forget What's 'is Name (1967)\",\n",
       " '1462    Sixth Man, The (1997)']"
      ]
     },
     "execution_count": 26,
     "metadata": {},
     "output_type": "execute_result"
    }
   ],
   "source": [
    "get_recommendations(4, model)"
   ]
  },
  {
   "cell_type": "markdown",
   "metadata": {},
   "source": [
    "Теперь ваша очередь реализовать самые популярные алгоритмы матричных разложений\n",
    "\n",
    "Что будет оцениваться:\n",
    "1. Корректность алгоритма\n",
    "2. Качество получившихся симиларов\n",
    "3. Качество итоговых рекомендаций для юзера"
   ]
  },
  {
   "cell_type": "markdown",
   "metadata": {},
   "source": [
    "### Задание 1. Не использую готовые решения, реализовать SVD разложение используя SGD на explicit данных"
   ]
  },
  {
   "cell_type": "code",
   "execution_count": 114,
   "metadata": {},
   "outputs": [],
   "source": [
    "from tqdm import tqdm\n",
    "from sklearn import metrics\n",
    "from sklearn.metrics.pairwise import cosine_similarity\n",
    "import math\n",
    "\n",
    "def rmse(u, m):\n",
    "    pred = (u @ m)[ratings[\"user_id\"], ratings[\"movie_id\"]]\n",
    "    return metrics.mean_squared_error(ratings[\"rating\"], pred, squared=True)\n",
    "\n",
    "def rmse_ALS(u, m):\n",
    "    pred = (u @ m)[implicit_ratings[\"user_id\"], implicit_ratings[\"movie_id\"]]\n",
    "    real = user_item_csr.T[implicit_ratings[\"user_id\"], implicit_ratings[\"movie_id\"]]\n",
    "    real = np.squeeze(np.asarray(real))\n",
    "    return metrics.mean_squared_error(real, pred, squared=True)\n",
    "\n",
    "def get_simil1(m, m_id):\n",
    "    print(\"Similarity for film \", m_id)\n",
    "    simil = np.dot(m[:,m_id], m) / np.sqrt((m * m).sum(axis=0)) / np.sqrt((m[:,m_id] ** 2).sum())\n",
    "    simil = np.argsort(simil)[::-1]\n",
    "    for i in simil[:10]:\n",
    "        print(movie_info[movie_info['movie_id'] == i][['name', 'category']].values)\n",
    "    return\n",
    "\n",
    "def get_simil2(m, m_id):\n",
    "    print(\"Similarity for film \", m_id)\n",
    "    movies = m.T\n",
    "    matr1 = movies[m_id]\n",
    "    simil = cosine_similarity(np.expand_dims(matr1, axis=0), movies)[0]\n",
    "    simil = np.argsort(simil)[::-1]\n",
    "    for i in simil[:10]:\n",
    "        print(movie_info[movie_info['movie_id'] == i][['name', 'category']].values)\n",
    "    return"
   ]
  },
  {
   "cell_type": "code",
   "execution_count": 88,
   "metadata": {},
   "outputs": [
    {
     "name": "stdout",
     "output_type": "stream",
     "text": [
      "8.430050270805815\n",
      "7.574216307763594\n",
      "7.134507463559384\n",
      "7.054892279546618\n",
      "7.21589757502219\n",
      "7.419406017216758\n",
      "7.61599625617271\n",
      "7.2712886906910255\n",
      "7.501583345752957\n",
      "7.816725452555913\n",
      "2.5563534115188564\n",
      "1.6273990264723264\n",
      "1.2666650515169682\n",
      "1.1050885208413628\n",
      "1.0481871572249277\n",
      "1.0197859859467375\n",
      "0.9994442940821474\n",
      "0.9593518678896029\n",
      "0.9212338306191381\n",
      "0.9011568438958819\n",
      "0.8742672685513135\n",
      "0.8659756023499476\n",
      "0.858097996271169\n",
      "0.8533823700158338\n",
      "0.8437162954151336\n",
      "0.8417155670909233\n",
      "0.8356416884201563\n",
      "0.8269723167735819\n",
      "0.8214714362874256\n",
      "0.8177683950260055\n",
      "0.809026271508446\n",
      "0.8041984724906914\n",
      "0.7999677059594786\n",
      "0.7946115550454089\n",
      "0.7876168158708698\n",
      "0.784235923209155\n",
      "0.7791177590144662\n",
      "0.7725366078417489\n",
      "0.7673051198418203\n",
      "0.7630690933309419\n",
      "0.7551666903051314\n",
      "0.7497253483149802\n",
      "0.7460152543661425\n",
      "0.7399693704472596\n",
      "0.73254264465594\n",
      "0.7283187092041856\n",
      "0.7233252577624198\n",
      "0.7165844166919513\n",
      "0.7107849364983724\n",
      "0.7055233999417779\n",
      "0.6980628634268514\n",
      "0.6921662094235598\n",
      "0.6878053520560613\n",
      "0.6821803682468897\n",
      "0.6747145321331091\n",
      "0.6697412960439819\n",
      "0.6651144976186681\n",
      "0.6586981302475746\n",
      "0.6525178377535672\n",
      "0.6470062755500795\n",
      "0.6404620360303048\n",
      "0.6347469496854761\n",
      "0.6299878555712951\n",
      "0.6251965745946452\n",
      "0.6183275689049048\n",
      "0.6135041219101198\n",
      "0.6092856430042947\n",
      "0.6038854901047468\n",
      "0.5978655057473022\n",
      "0.5927289605481244\n",
      "0.5872810599567406\n",
      "0.582224233282526\n",
      "0.5777313375155412\n",
      "0.573770468574575\n",
      "0.5678442780078765\n",
      "0.5636748818936552\n",
      "0.5600482153896912\n",
      "0.5557576703602273\n",
      "0.5504323526088606\n",
      "0.5459412113494814\n",
      "0.5415259256123484\n",
      "0.5373798737515852\n",
      "0.5336296322493448\n",
      "0.5304299987219153\n",
      "0.5255847929603484\n",
      "0.5221523372939352\n",
      "0.5192626388326873\n",
      "0.5158632041602362\n",
      "0.5115280070462154\n",
      "0.5077265767247479\n",
      "0.5041402954672032\n",
      "0.5008795204461449\n",
      "0.49796336095582994\n",
      "0.4953533619363876\n",
      "0.49150352430223265\n",
      "0.4886746984537977\n",
      "0.48642575906712526\n",
      "0.4836747842213602\n",
      "0.4803040508544514\n",
      "0.47711176801059135\n",
      "0.4741231300990498\n",
      "0.47155857490889846\n",
      "0.4693573725246529\n",
      "0.4671576340640108\n",
      "0.46410968120770435\n",
      "0.4617367342492146\n",
      "0.45993603498207875\n",
      "0.45765402368363123\n",
      "0.4550716966584119\n",
      "0.45237830618561575\n",
      "0.44981550788414015\n",
      "0.4477452805867102\n",
      "0.44610211534254135\n",
      "0.4441881216549468\n",
      "0.4417517715565242\n",
      "0.4397427228232225\n",
      "0.43822732073369036\n",
      "0.43628877134857375\n",
      "0.4343100266864787\n",
      "0.4320258564567414\n",
      "0.42978532355552734\n",
      "0.4280572500141296\n",
      "0.4268381812579656\n",
      "0.4251367613643542\n",
      "0.4231663983940866\n",
      "0.4214708637366996\n",
      "0.42013724422040805\n",
      "0.4184491559504098\n",
      "0.41692571235859976\n",
      "0.4149869991583796\n",
      "0.4130093522528981\n",
      "0.4115220525990246\n",
      "0.4106233360151931\n",
      "0.4090917930156003\n",
      "0.40748392919781\n",
      "0.4060670057180969\n",
      "0.4048590792168334\n",
      "0.4033509725685031\n",
      "0.4021708020025366\n",
      "0.400529947411254\n",
      "0.39877767379926327\n",
      "0.3974658658668446\n",
      "0.3968092677181678\n",
      "0.39542074265478416\n",
      "0.3940997589299531\n",
      "0.39292893988627053\n",
      "0.39182051688434916\n",
      "0.3904414412714586\n",
      "0.3895191498792322\n",
      "0.38813652699526957\n",
      "0.3865816933400316\n",
      "0.3854034311090307\n",
      "0.38493110195256375\n",
      "0.3836674365358781\n",
      "0.3825741168733579\n",
      "0.38161669518722485\n",
      "0.3805980707429947\n",
      "0.3793142069935019\n",
      "0.37858357262125886\n",
      "0.3774235480815203\n",
      "0.3760427364719417\n",
      "0.37497084888910953\n",
      "0.3746406944322095\n",
      "0.37348923625124864\n",
      "0.3725745527013821\n",
      "0.3717988451803957\n",
      "0.37086785694254937\n",
      "0.3696589255799919\n",
      "0.3690686701632844\n",
      "0.3680982736223073\n",
      "0.36687084978010054\n",
      "0.3658874087924962\n",
      "0.36566897670615506\n",
      "0.36462090556739657\n",
      "0.3638435171472398\n",
      "0.3632203082407516\n",
      "0.36237683262223674\n",
      "0.3612319958298781\n",
      "0.3607433835559572\n",
      "0.3599321978903337\n",
      "0.35883971611620763\n",
      "0.357932421614833\n",
      "0.35780354296902106\n",
      "0.3568527070833973\n",
      "0.35617825500743855\n",
      "0.3556815185761106\n",
      "0.35492449375950463\n",
      "0.35383866523360535\n",
      "0.35342368668540186\n",
      "0.3527442048896424\n",
      "0.3517701257481412\n",
      "0.3509299316193985\n",
      "0.35087419996243324\n",
      "0.35001616186106\n",
      "0.3494170698147696\n",
      "0.34902410718206145\n",
      "0.3483503223197858\n",
      "0.3473213304969849\n",
      "0.3469608870168175\n",
      "0.34638894677238047\n",
      "0.34551847002412767\n",
      "0.34473806811027385\n",
      "0.34474304913213427\n",
      "0.34397428790909806\n",
      "0.3434294493833015\n",
      "0.34312074896398426\n",
      "0.3425247511774246\n",
      "0.34155141868605343\n",
      "0.3412334004931868\n",
      "0.3407484760499538\n",
      "0.3399684647157185\n",
      "0.3392413935537341\n",
      "0.33929739047595164\n",
      "0.3386146625699621\n",
      "0.33810884294483484\n",
      "0.33786785145410486\n",
      "0.3373424499464255\n",
      "0.3364234681194481\n",
      "0.3361408466006273\n",
      "0.3357260893749201\n",
      "0.33502505984457176\n",
      "0.3343452699411701\n",
      "0.334444485534711\n",
      "0.3338443494760957\n",
      "0.3333673457569566\n",
      "0.333180223703333\n",
      "0.33271721447439573\n",
      "0.33185062739765786\n",
      "0.33159973482911703\n",
      "0.3312417483154794\n",
      "0.3306098739975499\n",
      "0.3299716075781298\n",
      "0.33010758495101616\n",
      "0.3295860905688539\n",
      "0.32913175920874993\n",
      "0.32898713463271817\n",
      "0.32857800916643737\n",
      "0.3277611126757932\n",
      "0.3275402439075122\n",
      "0.327228648495072\n",
      "0.32665772135734844\n",
      "0.3260555802033414\n",
      "0.326222841123817\n",
      "0.3257753768908722\n",
      "0.32534063836160354\n",
      "0.3252293558602005\n",
      "0.32486587327821254\n",
      "0.3240953535867764\n",
      "0.32390375073262473\n"
     ]
    }
   ],
   "source": [
    "import random\n",
    "import math\n",
    "from tqdm import tqdm\n",
    "from sklearn import metrics\n",
    "\n",
    "users = ratings[\"user_id\"]\n",
    "movies = ratings[\"movie_id\"]\n",
    "movie_ratings = ratings[\"rating\"]\n",
    "\n",
    "explicit = sp.coo_matrix((movie_ratings, (users, movies))).tocsr()\n",
    "u_amount = explicit.shape[0]\n",
    "m_amount = explicit.shape[1]\n",
    "k = 64\n",
    "\n",
    "u = np.random.uniform(0, 1 / math.sqrt(k), (u_amount, k))\n",
    "m = np.random.uniform(0, 1 / math.sqrt(k), (k, m_amount))\n",
    "u_bias = np.random.uniform(0, 1 / math.sqrt(k), (u_amount, 1))\n",
    "m_bias = np.random.uniform(0, 1 / math.sqrt(k), (1, m_amount))\n",
    "\n",
    "epochs = 25000000\n",
    "l = 0.01\n",
    "r = 0.001\n",
    "\n",
    "size = ratings.shape[0]\n",
    "indeces = list()\n",
    "for i in range(size):\n",
    "  indeces.append(i)\n",
    "losses = list()\n",
    "\n",
    "for epoch in range(epochs):\n",
    "    ind = indeces[epoch % len(ratings)]\n",
    "    i = ratings.loc[ind, \"user_id\"]\n",
    "    j = ratings.loc[ind, \"movie_id\"]\n",
    "    rat = ratings.loc[ind, 'rating']\n",
    "    prevW = u[i, :]\n",
    "    diff = np.dot(u[i, :],m[:, j]) - explicit[i, j] # + u_bias[i, :] + m_bias[:, j]\n",
    "    u[i, :] -= l * diff * m[:, j].T\n",
    "    m[:, j] -= l * diff * prevW.T\n",
    "    u_bias[i, :] -= l * (diff + r * u_bias[i, :])\n",
    "    m_bias[:, j] -= l * (diff + r * m_bias[:, j])\n",
    "    if (ind % 100000 == 99999):\n",
    "        print(rmse(u, m))"
   ]
  },
  {
   "cell_type": "code",
   "execution_count": 93,
   "metadata": {},
   "outputs": [
    {
     "name": "stdout",
     "output_type": "stream",
     "text": [
      "Similarity for film  1\n",
      "[['Toy Story (1995)' \"Animation|Children's|Comedy\"]]\n",
      "[['Toy Story 2 (1999)' \"Animation|Children's|Comedy\"]]\n",
      "[[\"Bug's Life, A (1998)\" \"Animation|Children's|Comedy\"]]\n",
      "[['McCullochs, The (1975)' 'Drama']]\n",
      "[['East Palace West Palace (Dong gong xi gong) (1997)' 'Drama']]\n",
      "[['Trouble in Paradise (1932)' 'Comedy|Romance']]\n",
      "[['Torso (Corpi Presentano Tracce di Violenza Carnale) (1973)' 'Horror']]\n",
      "[['Parallel Sons (1995)' 'Drama|Romance']]\n",
      "[['Shiloh (1997)' \"Children's|Drama\"]]\n",
      "[['Beauty and the Beast (1991)' \"Animation|Children's|Musical\"]]\n",
      "Similarity for film  10\n",
      "[['GoldenEye (1995)' 'Action|Adventure|Thriller']]\n",
      "[['Tomorrow Never Dies (1997)' 'Action|Romance|Thriller']]\n",
      "[['World Is Not Enough, The (1999)' 'Action|Thriller']]\n",
      "[['Man with the Golden Gun, The (1974)' 'Action']]\n",
      "[['Live and Let Die (1973)' 'Action']]\n",
      "[['Somewhere in the City (1997)' 'Drama']]\n",
      "[['For Your Eyes Only (1981)' 'Action']]\n",
      "[['Spy Who Loved Me, The (1977)' 'Action']]\n",
      "[['Love Walked In (1998)' 'Drama|Thriller']]\n",
      "[['Dr. No (1962)' 'Action']]\n"
     ]
    }
   ],
   "source": [
    "get_simil1(m, 1) \n",
    "get_simil2(m, 10)"
   ]
  },
  {
   "cell_type": "markdown",
   "metadata": {},
   "source": []
  },
  {
   "cell_type": "markdown",
   "metadata": {},
   "source": [
    "### Задание 2. Не использую готовые решения, реализовать матричное разложение используя ALS на implicit данных"
   ]
  },
  {
   "cell_type": "code",
   "execution_count": 127,
   "metadata": {},
   "outputs": [
    {
     "name": "stderr",
     "output_type": "stream",
     "text": [
      "\r",
      "  0%|                                                                                         | 0/3953 [00:00<?, ?it/s]"
     ]
    },
    {
     "name": "stdout",
     "output_type": "stream",
     "text": [
      "0.5626990661250493\n"
     ]
    },
    {
     "name": "stderr",
     "output_type": "stream",
     "text": [
      "100%|██████████████████████████████████████████████████████████████████████████████| 3953/3953 [14:59<00:00,  4.39it/s]\n",
      "  0%|                                                                                         | 0/6041 [00:00<?, ?it/s]"
     ]
    },
    {
     "name": "stdout",
     "output_type": "stream",
     "text": [
      "0.7850692837448429\n"
     ]
    },
    {
     "name": "stderr",
     "output_type": "stream",
     "text": [
      "100%|██████████████████████████████████████████████████████████████████████████████| 6041/6041 [10:45<00:00,  9.36it/s]\n",
      "  0%|                                                                                         | 0/3953 [00:00<?, ?it/s]"
     ]
    },
    {
     "name": "stdout",
     "output_type": "stream",
     "text": [
      "0.529982532326618\n"
     ]
    },
    {
     "name": "stderr",
     "output_type": "stream",
     "text": [
      "100%|██████████████████████████████████████████████████████████████████████████████| 3953/3953 [14:59<00:00,  4.39it/s]\n",
      "  0%|                                                                                 | 1/6041 [00:00<10:10,  9.90it/s]"
     ]
    },
    {
     "name": "stdout",
     "output_type": "stream",
     "text": [
      "0.45011396003015497\n"
     ]
    },
    {
     "name": "stderr",
     "output_type": "stream",
     "text": [
      "100%|██████████████████████████████████████████████████████████████████████████████| 6041/6041 [10:54<00:00,  9.23it/s]\n",
      "  0%|                                                                                         | 0/3953 [00:00<?, ?it/s]"
     ]
    },
    {
     "name": "stdout",
     "output_type": "stream",
     "text": [
      "0.42770016520456267\n"
     ]
    },
    {
     "name": "stderr",
     "output_type": "stream",
     "text": [
      "100%|██████████████████████████████████████████████████████████████████████████████| 3953/3953 [14:51<00:00,  4.44it/s]\n",
      "  0%|                                                                                         | 0/6041 [00:00<?, ?it/s]"
     ]
    },
    {
     "name": "stdout",
     "output_type": "stream",
     "text": [
      "0.4194364236057743\n"
     ]
    },
    {
     "name": "stderr",
     "output_type": "stream",
     "text": [
      "100%|██████████████████████████████████████████████████████████████████████████████| 6041/6041 [11:04<00:00,  9.09it/s]\n",
      "  0%|                                                                                         | 0/3953 [00:00<?, ?it/s]"
     ]
    },
    {
     "name": "stdout",
     "output_type": "stream",
     "text": [
      "0.41462696857865006\n"
     ]
    },
    {
     "name": "stderr",
     "output_type": "stream",
     "text": [
      "100%|██████████████████████████████████████████████████████████████████████████████| 3953/3953 [16:02<00:00,  4.11it/s]\n",
      "  0%|                                                                                 | 1/6041 [00:00<11:58,  8.40it/s]"
     ]
    },
    {
     "name": "stdout",
     "output_type": "stream",
     "text": [
      "0.4121412354887366\n"
     ]
    },
    {
     "name": "stderr",
     "output_type": "stream",
     "text": [
      "100%|██████████████████████████████████████████████████████████████████████████████| 6041/6041 [11:17<00:00,  8.92it/s]\n",
      "  0%|                                                                                         | 0/3953 [00:00<?, ?it/s]"
     ]
    },
    {
     "name": "stdout",
     "output_type": "stream",
     "text": [
      "0.41049711102964154\n"
     ]
    },
    {
     "name": "stderr",
     "output_type": "stream",
     "text": [
      "100%|██████████████████████████████████████████████████████████████████████████████| 3953/3953 [15:02<00:00,  4.38it/s]\n",
      "  0%|                                                                                 | 1/6041 [00:00<11:34,  8.70it/s]"
     ]
    },
    {
     "name": "stdout",
     "output_type": "stream",
     "text": [
      "0.4093781811192819\n"
     ]
    },
    {
     "name": "stderr",
     "output_type": "stream",
     "text": [
      "100%|██████████████████████████████████████████████████████████████████████████████| 6041/6041 [11:04<00:00,  9.09it/s]\n"
     ]
    },
    {
     "name": "stdout",
     "output_type": "stream",
     "text": [
      "0.4086862497066015\n"
     ]
    }
   ],
   "source": [
    "import random\n",
    "import math\n",
    "from tqdm import tqdm, trange\n",
    "\n",
    "users = ratings[\"user_id\"]\n",
    "movies = ratings[\"movie_id\"]\n",
    "movie_ratings = ratings[\"rating\"]\n",
    "\n",
    "explicit = sp.coo_matrix((movie_ratings, (users, movies))).tocsr()\n",
    "n = explicit.shape[0]\n",
    "m = explicit.shape[1]\n",
    "k = 64\n",
    "\n",
    "u = np.random.uniform(0, 1 / math.sqrt(k), (n, k))\n",
    "m = np.random.uniform(0, 1 / math.sqrt(k), (k, m)) \n",
    "coeffs = user_item_csr.T.toarray() * 0.01 + 1\n",
    "\n",
    "epochs = 10\n",
    "l = 0.02\n",
    "\n",
    "m = m.T\n",
    "print(rmse_ALS(u, m.T))\n",
    "for epoch in range(epochs):\n",
    "    if (epoch % 2 == 0):   \n",
    "        newM = np.zeros((len(coeffs.T), k))\n",
    "        for i in trange(len(coeffs.T), position=0):\n",
    "            b = np.linalg.inv(u.T @ np.diag(coeffs.T[i]) @ u + l * np.eye(u.shape[1]))\n",
    "            b = b @ u.T @ np.diag(coeffs.T[i])\n",
    "            newM[i] = (b @ user_item_csr[i].T).T\n",
    "        m = newM\n",
    "    else:\n",
    "        newU = np.zeros((len(coeffs), k))\n",
    "        for i in trange(len(coeffs), position=0):\n",
    "            b = np.linalg.inv(m.T @ np.diag(coeffs[i]) @ m + l * np.eye(m.shape[1]))\n",
    "            b = b @ m.T @ np.diag(coeffs[i])\n",
    "            newU[i] = (b @ user_item_csr.T[i].T).T\n",
    "        u = newU\n",
    "    print(rmse_ALS(u, m.T))"
   ]
  },
  {
   "cell_type": "code",
   "execution_count": 128,
   "metadata": {},
   "outputs": [
    {
     "name": "stdout",
     "output_type": "stream",
     "text": [
      "Similarity for film  1\n",
      "[['Toy Story (1995)' \"Animation|Children's|Comedy\"]]\n",
      "[['Seven (Se7en) (1995)' 'Crime|Thriller']]\n",
      "[['Babe (1995)' \"Children's|Comedy|Drama\"]]\n",
      "[['When Night Is Falling (1995)' 'Drama|Romance']]\n",
      "[[\"Don't Be a Menace to South Central While Drinking Your Juice in the Hood (1996)\"\n",
      "  'Comedy']]\n",
      "[['Assassins (1995)' 'Thriller']]\n",
      "[['Ace Ventura: When Nature Calls (1995)' 'Comedy']]\n",
      "[['Mortal Kombat (1995)' 'Action|Adventure']]\n",
      "[['Kids of the Round Table (1995)' \"Adventure|Children's|Fantasy\"]]\n",
      "[['Indian in the Cupboard, The (1995)' \"Adventure|Children's|Fantasy\"]]\n",
      "Similarity for film  10\n",
      "[['GoldenEye (1995)' 'Action|Adventure|Thriller']]\n",
      "[['Guardian Angel (1994)' 'Action|Drama|Thriller']]\n",
      "[['Lamerica (1994)' 'Drama']]\n",
      "[['Balto (1995)' \"Animation|Children's\"]]\n",
      "[['Father of the Bride Part II (1995)' 'Comedy']]\n",
      "[['Georgia (1995)' 'Drama']]\n",
      "[['Sabrina (1995)' 'Comedy|Romance']]\n",
      "[['Cutthroat Island (1995)' 'Action|Adventure|Romance']]\n",
      "[['Restoration (1995)' 'Drama']]\n",
      "[['Heat (1995)' 'Action|Crime|Thriller']]\n"
     ]
    }
   ],
   "source": [
    "get_simil1(m, 1) \n",
    "get_simil2(m, 10)"
   ]
  },
  {
   "cell_type": "markdown",
   "metadata": {},
   "source": [
    "### Задание 3. Не использую готовые решения, реализовать матричное разложение BPR на implicit данных"
   ]
  },
  {
   "cell_type": "code",
   "execution_count": null,
   "metadata": {},
   "outputs": [],
   "source": []
  },
  {
   "cell_type": "markdown",
   "metadata": {},
   "source": [
    "### Задание 4. Не использую готовые решения, реализовать матричное разложение WARP на implicit данных"
   ]
  },
  {
   "cell_type": "code",
   "execution_count": null,
   "metadata": {},
   "outputs": [],
   "source": []
  }
 ],
 "metadata": {
  "kernelspec": {
   "display_name": "Python 3",
   "language": "python",
   "name": "python3"
  },
  "language_info": {
   "codemirror_mode": {
    "name": "ipython",
    "version": 3
   },
   "file_extension": ".py",
   "mimetype": "text/x-python",
   "name": "python",
   "nbconvert_exporter": "python",
   "pygments_lexer": "ipython3",
   "version": "3.8.8"
  }
 },
 "nbformat": 4,
 "nbformat_minor": 2
}
